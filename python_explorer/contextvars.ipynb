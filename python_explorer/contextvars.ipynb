{
 "cells": [
  {
   "cell_type": "code",
   "execution_count": 4,
   "id": "d4be5f08",
   "metadata": {},
   "outputs": [
    {
     "name": "stdout",
     "output_type": "stream",
     "text": [
      "In main: var = main value\n",
      "In print_var, var = main value\n",
      "In new context, var = main value\n",
      "In empty context, var = default\n"
     ]
    }
   ],
   "source": [
    "import contextvars\n",
    "import asyncio\n",
    "\n",
    "var = contextvars.ContextVar('var', default='default')\n",
    "\n",
    "async def print_var():\n",
    "    print(f\"In print_var, var = {var.get()}\")\n",
    "\n",
    "async def main():\n",
    "    var.set('main value')\n",
    "\n",
    "    print(f\"In main: var = {var.get()}\")\n",
    "\n",
    "    # 异步任务会继承调用者的上下文\n",
    "    task = asyncio.create_task(print_var())\n",
    "    await task\n",
    "\n",
    "    # new_context为当前context的拷贝\n",
    "    new_context = contextvars.copy_context()\n",
    "    new_context.run(lambda: print(f\"In new context, var = {var.get()}\"))\n",
    "\n",
    "    # 创建一个全新的context\n",
    "    empty_context = contextvars.Context()\n",
    "    empty_context.run(lambda: print(f\"In empty context, var = {var.get()}\"))\n",
    "\n",
    "await main()"
   ]
  },
  {
   "cell_type": "code",
   "execution_count": 13,
   "id": "d6a97a23",
   "metadata": {},
   "outputs": [
    {
     "name": "stdout",
     "output_type": "stream",
     "text": [
      "Start request 0\n",
      "Start request 1\n",
      "Start request 2\n",
      "Nested in request 0\n",
      "End request 0\n",
      "Nested in request 1\n",
      "End request 1\n",
      "Nested in request 2\n",
      "End request 2\n"
     ]
    }
   ],
   "source": [
    "import asyncio\n",
    "import contextvars\n",
    "\n",
    "request_id = contextvars.ContextVar('request_id')\n",
    "\n",
    "async def handle_request(id):\n",
    "    request_id.set(id)\n",
    "\n",
    "    print(f\"Start request {request_id.get()}\")\n",
    "\n",
    "    await asyncio.sleep( 1 + id * 2)\n",
    "\n",
    "    async def nested():\n",
    "        print(f\"Nested in request {request_id.get()}\")\n",
    "\n",
    "    await nested()\n",
    "\n",
    "    print(f\"End request {request_id.get()}\")\n",
    "\n",
    "\n",
    "async def main():\n",
    "    tasks = [handle_request(idx) for idx in range(3)]\n",
    "    await asyncio.gather(*tasks)\n",
    "\n",
    "await main()"
   ]
  },
  {
   "cell_type": "code",
   "execution_count": 21,
   "id": "3cd97b86",
   "metadata": {},
   "outputs": [
    {
     "name": "stdout",
     "output_type": "stream",
     "text": [
      "in sub1, var.get()='main set'\n",
      "in sub2, var.get()='sub1 set'\n",
      "in main, var.get()='sub1 set'\n"
     ]
    }
   ],
   "source": [
    "# 我们需要意识到上下文的一致性是由用户手动保持的，而不是由系统自动保持的\n",
    "import asyncio\n",
    "import contextvars\n",
    "\n",
    "var = contextvars.ContextVar('var', default={})\n",
    "\n",
    "async def sub2():\n",
    "    print(f'in sub2, {var.get()=}')\n",
    "    var.set('sub1 set')\n",
    "\n",
    "async def sub1():\n",
    "    print(f'in sub1, {var.get()=}')\n",
    "    var.set('sub1 set')\n",
    "    await sub2()\n",
    "\n",
    "async def main():\n",
    "    var.set('main set')\n",
    "    await sub1()\n",
    "    print(f'in main, {var.get()=}')\n",
    "\n",
    "await main()"
   ]
  },
  {
   "cell_type": "code",
   "execution_count": 22,
   "id": "73a5001b",
   "metadata": {},
   "outputs": [
    {
     "name": "stdout",
     "output_type": "stream",
     "text": [
      "level = 2, var.get() = 2\n",
      "level = 1, var.get() = 1\n",
      "level = 0, var.get() = 0\n",
      "level = 0, var.get() = 0\n",
      "level = 1, var.get() = 1\n",
      "level = 2, var.get() = 2\n"
     ]
    }
   ],
   "source": [
    "import asyncio\n",
    "import contextvars\n",
    "\n",
    "var = contextvars.ContextVar('var', default={})\n",
    "\n",
    "# 当执行从一个内部任务（inner Task）中退出时，内部任务的上下文（context）也会结束，并且外部任务（outer Task）的上下文会被恢复。这意味着任务之间的上下文不会保持一致。\n",
    "# 原因在于，当创建一个任务时，该任务的上下文是一个从当前上下文复制出来的新上下文对象。对这个新上下文对象进行的任何写操作都不会影响到外部的上下文对象。\n",
    "async def coro_func(level):\n",
    "    var.set(level)\n",
    "    print(f\"level = {level}, var.get() = {var.get()}\")\n",
    "    if level:\n",
    "        await asyncio.create_task(coro_func(level - 1))\n",
    "    print(f\"level = {level}, var.get() = {var.get()}\")\n",
    "\n",
    "await coro_func(2)"
   ]
  },
  {
   "cell_type": "code",
   "execution_count": 23,
   "id": "b9735b4d",
   "metadata": {},
   "outputs": [
    {
     "name": "stdout",
     "output_type": "stream",
     "text": [
      "level = 2, var.get() = 2\n",
      "level = 1, var.get() = 1\n",
      "level = 0, var.get() = 0\n",
      "level = 0, var.get() = 0\n",
      "level = 1, var.get() = 0\n",
      "level = 2, var.get() = 0\n"
     ]
    }
   ],
   "source": [
    "import asyncio\n",
    "import contextvars\n",
    "\n",
    "var = contextvars.ContextVar('var', default={})\n",
    "\n",
    "async def coro_func(level):\n",
    "    var.set(level)\n",
    "    print(f\"level = {level}, var.get() = {var.get()}\")\n",
    "    if level:\n",
    "        # context = contextvars.copy_context() if asyncio.current_task() else None\n",
    "\n",
    "        # 3.11+的create_task()才支持context参数\n",
    "        # await asyncio.create_task(coro_func(level - 1), context=context)\n",
    "        async def wrapper():\n",
    "            var.set(level - 1)\n",
    "            await coro_func(level - 1)\n",
    "        await wrapper()\n",
    "\n",
    "    print(f\"level = {level}, var.get() = {var.get()}\")\n",
    "\n",
    "await coro_func(2)"
   ]
  },
  {
   "cell_type": "code",
   "execution_count": 25,
   "id": "1d9181c1",
   "metadata": {},
   "outputs": [
    {
     "name": "stdout",
     "output_type": "stream",
     "text": [
      "spam\n",
      "spam\n",
      "spam\n",
      "ham\n",
      "ham\n",
      "ham\n",
      "spam\n"
     ]
    }
   ],
   "source": [
    "import contextvars\n",
    "\n",
    "var = contextvars.ContextVar('var')\n",
    "var.set('spam')\n",
    "print(var.get())  # 'spam'\n",
    "\n",
    "# ctx是当前上下文的一份拷贝\n",
    "ctx = contextvars.copy_context()\n",
    "\n",
    "def main():\n",
    "    # 'var' was set to 'spam' before\n",
    "    # calling 'copy_context()' and 'ctx.run(main)', so:\n",
    "    print(var.get())  # 'spam'\n",
    "    print(ctx[var])  # 'spam'\n",
    "\n",
    "    var.set('ham')\n",
    "\n",
    "    # Now, after setting 'var' to 'ham':\n",
    "    print(var.get())  # 'ham'\n",
    "    print(ctx[var])  # 'ham'\n",
    "\n",
    "# Any changes that the 'main' function makes to 'var'\n",
    "# will be contained in 'ctx'.\n",
    "ctx.run(main)\n",
    "\n",
    "# The 'main()' function was run in the 'ctx' context,\n",
    "# so changes to 'var' are contained in it:\n",
    "print(ctx[var])  # 'ham'\n",
    "\n",
    "# However, outside of 'ctx', 'var' is still set to 'spam':\n",
    "print(var.get())  # 'spam'"
   ]
  }
 ],
 "metadata": {
  "kernelspec": {
   "display_name": "base",
   "language": "python",
   "name": "python3"
  },
  "language_info": {
   "codemirror_mode": {
    "name": "ipython",
    "version": 3
   },
   "file_extension": ".py",
   "mimetype": "text/x-python",
   "name": "python",
   "nbconvert_exporter": "python",
   "pygments_lexer": "ipython3",
   "version": "3.8.8"
  }
 },
 "nbformat": 4,
 "nbformat_minor": 5
}
