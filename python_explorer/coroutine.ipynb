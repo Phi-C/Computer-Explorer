{
 "cells": [
  {
   "cell_type": "markdown",
   "metadata": {},
   "source": [
    "# Introduction\n",
    "Key Words: coroutines; event loops; tasks\n",
    "\n",
    "## 普通函数和协程\n",
    "以做菜为比喻.\n",
    "* 普通函数\n",
    "1. 以烘焙蛋糕为例, 从开始到结束，按照食谱一步步进行，中途不停止，直到蛋糕烤好之前，不能做其他事情。在烤蛋糕的整个过程中，注意力完全集中在烤蛋糕上，无法同时做别的事。\n",
    "2. 普通函数特点: 一旦开始执行，就会按照顺序依次完成，中间不会中断去执行其他任务，直到执行完当前函数，才能继续执行后续的代码\n",
    "\n",
    "* 协程\n",
    "\n",
    "1. 协程好比做一顿包含多个菜肴的饭。开始做第一个菜，但可以在等待第一个菜烹饪的过程中，暂停它，去开始做第二个菜。这样就可以同时管理多个菜肴，根据需要在它们之间切换，高效地利用时间和资源。\n",
    "2. 协程能够实现多任务处理。它不像普通函数那样一直执行下去，而是在等待某些操作（比如 I/O 操作）完成时，可以暂停当前任务，去执行其他任务，等到等待的操作完成后再回来继续执行之前暂停的任务，从而可以在多个任务之间灵活切换，充分利用系统资源，提高效率。\n",
    "\n",
    "## 事件循环(Event loop)\n",
    "事件循环就像是一个乐队的指挥，确保每个音乐家（或者说是任务）知道何时开始演奏以及何时暂停。在编程的语境中，事件循环负责监督不同任务的执行，逐一处理它们，使得任何一个任务都不会阻塞整个程序。\n",
    "![image.png](../assets/basic_event_loop.webp)\n",
    "\n",
    "## Promise-Future模型\n",
    "asyncio中默认的通信模型。一般意义上的Promise-Future由Promise和Future两个对象组成，它原本是一种多线程中的模型，代表一次异步通信过程：发送方通过Promise对象发送消息，接收方可以随时通过Future对象在合适的接受结果，或者等待结果到来。\n",
    "\n",
    "Future指一个只读的值的容器，这个值可能立即可用，也可能在未来某个时间可用。而Promise则是一个只能写入一次的对象。每个Promise关联一个Future，对Promise的写入会令Future的值可用。我们只讨论Promise和Future一对一的场景，在这个场景中Future就是值，而Promise是产生值的方法。\n",
    "\n",
    "Future和Promise来源于函数式语言，其目的是分离一个值和产生值的方法，从而简化异步代码的处理。\n",
    "[Future与Promise](https://fuzhe1989.github.io/2018/01/30/future-promise/)\n",
    "\n",
    "\n"
   ]
  },
  {
   "cell_type": "code",
   "execution_count": 1,
   "metadata": {},
   "outputs": [
    {
     "name": "stdout",
     "output_type": "stream",
     "text": [
      "Normal result is 6 and the type is <class 'int'>\n",
      "Coroutine result is <coroutine object coroutine_func at 0x7f8f00c0bcc0> and the type is <class 'coroutine'>\n"
     ]
    }
   ],
   "source": [
    "import asyncio\n",
    "\n",
    "async def coroutine_func(number: int) -> int:\n",
    "    return number * 2\n",
    "\n",
    "def normal_func(number: int) -> int:\n",
    "    return number * 2\n",
    "\n",
    "norm_res = normal_func(3)\n",
    "\n",
    "# 协程返回一个协程对象, 还未运行。这个协程对象可稍后由事件循环来调度和执行\n",
    "# 这种定义和运行的机制使得任务管理更加灵活和高效\n",
    "coro_res = coroutine_func(3)\n",
    "\n",
    "print(f\"Normal result is {norm_res} and the type is {type(norm_res)}\")\n",
    "print(f\"Coroutine result is {coro_res} and the type is {type(coro_res)}\")"
   ]
  },
  {
   "cell_type": "code",
   "execution_count": 6,
   "metadata": {},
   "outputs": [
    {
     "name": "stdout",
     "output_type": "stream",
     "text": [
      "Fetch data for ID 1\n",
      "Data fetched for ID 1\n",
      "Result: Data 1Data 1\n",
      "Processed Data: Data 1\n"
     ]
    }
   ],
   "source": [
    "async def fetch_data(data_id: int) -> str:\n",
    "    print(f\"Fetch data for ID {data_id}\")\n",
    "    await asyncio.sleep(2)      # 模拟网络延迟\n",
    "    print(f\"Data fetched for ID {data_id}\")\n",
    "    return f\"Data {data_id}\"\n",
    "\n",
    "async def compute_result(value: int) -> int:\n",
    "    await asyncio.sleep(1)      # 模拟计算延迟\n",
    "    return value * 2\n",
    "\n",
    "async def process_data() -> None:\n",
    "    # When the `await` keyword is used, the coroutine paused, allowing other operations to run\n",
    "    # Once the awaited task completes, execution resumes from where it left off\n",
    "    data = await fetch_data(1)\n",
    "    result = await compute_result(data)\n",
    "    print(f\"Result: {result}\")\n",
    "    print(f\"Processed Data: {data}\")\n",
    "\n",
    "# Jupyter本省已经运行了一个事件循环, 所以在Jupyter里不能直接使用asyncio.run()\n",
    "# asyncio.run(process_data())\n",
    "# asyncio.run(协程对象)\n",
    "await process_data()"
   ]
  },
  {
   "cell_type": "code",
   "execution_count": 7,
   "metadata": {},
   "outputs": [
    {
     "name": "stdout",
     "output_type": "stream",
     "text": [
      "Fetch data for ID 1\n",
      "Data fetched for ID 1\n",
      "Fetch data for ID 2\n",
      "Data fetched for ID 2\n",
      "Fetch data for ID 3\n",
      "Data fetched for ID 3\n",
      "It tooks 6.004991054534912\n"
     ]
    }
   ],
   "source": [
    "async def serialized_fetch() -> None:\n",
    "    await fetch_data(1)\n",
    "    await fetch_data(2)\n",
    "    await fetch_data(3)\n",
    "\n",
    "import time\n",
    "start_time = time.time()\n",
    "await serialized_fetch()\n",
    "print(f\"It tooks {time.time() - start_time}\")"
   ]
  },
  {
   "cell_type": "code",
   "execution_count": 13,
   "metadata": {},
   "outputs": [
    {
     "name": "stdout",
     "output_type": "stream",
     "text": [
      "Fetch data for ID 1\n",
      "Fetch data for ID 2\n",
      "Fetch data for ID 3\n",
      "Data fetched for ID 1\n",
      "Data fetched for ID 2\n",
      "Data fetched for ID 3\n",
      "It tooks 2.004282236099243\n"
     ]
    }
   ],
   "source": [
    "async def parallel_fetch() -> None:\n",
    "    items = [1, 2, 3]\n",
    "    tasks = [asyncio.create_task(fetch_data(item)) for item in items]\n",
    "    # task1 = asyncio.create_task(fetch_data(1))\n",
    "    # task2 = asyncio.create_task(fetch_data(2))\n",
    "    # task3 = asyncio.create_task(fetch_data(3))\n",
    "\n",
    "    # 等待所有任务完成\n",
    "    # await asyncio.gather(task1, task2, task3)\n",
    "    await asyncio.gather(*tasks)\n",
    "\n",
    "    # or await all task\n",
    "    # await task1\n",
    "    # await task2\n",
    "    # await task3\n",
    "\n",
    "start_time = time.time()\n",
    "await parallel_fetch()\n",
    "print(f\"It tooks {time.time() - start_time}\")"
   ]
  },
  {
   "cell_type": "code",
   "execution_count": 24,
   "metadata": {},
   "outputs": [
    {
     "name": "stdout",
     "output_type": "stream",
     "text": [
      "Initialize resources ...\n",
      "Processing task: Task1\n",
      "Cleaning resources ...\n"
     ]
    },
    {
     "ename": "TypeError",
     "evalue": "a coroutine was expected, got 'Finished task: Task1, It took 1.26 seconds'",
     "output_type": "error",
     "traceback": [
      "\u001b[0;31m---------------------------------------------------------------------------\u001b[0m",
      "\u001b[0;31mTypeError\u001b[0m                                 Traceback (most recent call last)",
      "\u001b[0;32m<ipython-input-24-5400e30b0539>\u001b[0m in \u001b[0;36m<module>\u001b[0;34m\u001b[0m\n\u001b[1;32m     26\u001b[0m         \u001b[0;32mawait\u001b[0m \u001b[0masyncio\u001b[0m\u001b[0;34m.\u001b[0m\u001b[0mgather\u001b[0m\u001b[0;34m(\u001b[0m\u001b[0;34m*\u001b[0m\u001b[0mtasks\u001b[0m\u001b[0;34m)\u001b[0m\u001b[0;34m\u001b[0m\u001b[0;34m\u001b[0m\u001b[0m\n\u001b[1;32m     27\u001b[0m \u001b[0;34m\u001b[0m\u001b[0m\n\u001b[0;32m---> 28\u001b[0;31m \u001b[0;32mawait\u001b[0m \u001b[0mprocessor\u001b[0m\u001b[0;34m(\u001b[0m\u001b[0;34m)\u001b[0m\u001b[0;34m\u001b[0m\u001b[0;34m\u001b[0m\u001b[0m\n\u001b[0m",
      "\u001b[0;32m<ipython-input-24-5400e30b0539>\u001b[0m in \u001b[0;36mprocessor\u001b[0;34m()\u001b[0m\n\u001b[1;32m     23\u001b[0m     \u001b[0mitems\u001b[0m \u001b[0;34m=\u001b[0m \u001b[0;34m[\u001b[0m\u001b[0;34m'Task1'\u001b[0m\u001b[0;34m,\u001b[0m \u001b[0;34m'Task2'\u001b[0m\u001b[0;34m,\u001b[0m \u001b[0;34m'Task3'\u001b[0m\u001b[0;34m]\u001b[0m\u001b[0;34m\u001b[0m\u001b[0;34m\u001b[0m\u001b[0m\n\u001b[1;32m     24\u001b[0m     \u001b[0;32mwith\u001b[0m \u001b[0mResource\u001b[0m\u001b[0;34m(\u001b[0m\u001b[0;34m)\u001b[0m \u001b[0;32mas\u001b[0m \u001b[0mrs\u001b[0m\u001b[0;34m:\u001b[0m\u001b[0;34m\u001b[0m\u001b[0;34m\u001b[0m\u001b[0m\n\u001b[0;32m---> 25\u001b[0;31m         \u001b[0mtasks\u001b[0m \u001b[0;34m=\u001b[0m \u001b[0;34m[\u001b[0m\u001b[0masyncio\u001b[0m\u001b[0;34m.\u001b[0m\u001b[0mcreate_task\u001b[0m\u001b[0;34m(\u001b[0m\u001b[0mrs\u001b[0m\u001b[0;34m.\u001b[0m\u001b[0mprocess\u001b[0m\u001b[0;34m(\u001b[0m\u001b[0mitem\u001b[0m\u001b[0;34m)\u001b[0m\u001b[0;34m)\u001b[0m \u001b[0;32mfor\u001b[0m \u001b[0mitem\u001b[0m \u001b[0;32min\u001b[0m \u001b[0mitems\u001b[0m\u001b[0;34m]\u001b[0m\u001b[0;34m\u001b[0m\u001b[0;34m\u001b[0m\u001b[0m\n\u001b[0m\u001b[1;32m     26\u001b[0m         \u001b[0;32mawait\u001b[0m \u001b[0masyncio\u001b[0m\u001b[0;34m.\u001b[0m\u001b[0mgather\u001b[0m\u001b[0;34m(\u001b[0m\u001b[0;34m*\u001b[0m\u001b[0mtasks\u001b[0m\u001b[0;34m)\u001b[0m\u001b[0;34m\u001b[0m\u001b[0;34m\u001b[0m\u001b[0m\n\u001b[1;32m     27\u001b[0m \u001b[0;34m\u001b[0m\u001b[0m\n",
      "\u001b[0;32m<ipython-input-24-5400e30b0539>\u001b[0m in \u001b[0;36m<listcomp>\u001b[0;34m(.0)\u001b[0m\n\u001b[1;32m     23\u001b[0m     \u001b[0mitems\u001b[0m \u001b[0;34m=\u001b[0m \u001b[0;34m[\u001b[0m\u001b[0;34m'Task1'\u001b[0m\u001b[0;34m,\u001b[0m \u001b[0;34m'Task2'\u001b[0m\u001b[0;34m,\u001b[0m \u001b[0;34m'Task3'\u001b[0m\u001b[0;34m]\u001b[0m\u001b[0;34m\u001b[0m\u001b[0;34m\u001b[0m\u001b[0m\n\u001b[1;32m     24\u001b[0m     \u001b[0;32mwith\u001b[0m \u001b[0mResource\u001b[0m\u001b[0;34m(\u001b[0m\u001b[0;34m)\u001b[0m \u001b[0;32mas\u001b[0m \u001b[0mrs\u001b[0m\u001b[0;34m:\u001b[0m\u001b[0;34m\u001b[0m\u001b[0;34m\u001b[0m\u001b[0m\n\u001b[0;32m---> 25\u001b[0;31m         \u001b[0mtasks\u001b[0m \u001b[0;34m=\u001b[0m \u001b[0;34m[\u001b[0m\u001b[0masyncio\u001b[0m\u001b[0;34m.\u001b[0m\u001b[0mcreate_task\u001b[0m\u001b[0;34m(\u001b[0m\u001b[0mrs\u001b[0m\u001b[0;34m.\u001b[0m\u001b[0mprocess\u001b[0m\u001b[0;34m(\u001b[0m\u001b[0mitem\u001b[0m\u001b[0;34m)\u001b[0m\u001b[0;34m)\u001b[0m \u001b[0;32mfor\u001b[0m \u001b[0mitem\u001b[0m \u001b[0;32min\u001b[0m \u001b[0mitems\u001b[0m\u001b[0;34m]\u001b[0m\u001b[0;34m\u001b[0m\u001b[0;34m\u001b[0m\u001b[0m\n\u001b[0m\u001b[1;32m     26\u001b[0m         \u001b[0;32mawait\u001b[0m \u001b[0masyncio\u001b[0m\u001b[0;34m.\u001b[0m\u001b[0mgather\u001b[0m\u001b[0;34m(\u001b[0m\u001b[0;34m*\u001b[0m\u001b[0mtasks\u001b[0m\u001b[0;34m)\u001b[0m\u001b[0;34m\u001b[0m\u001b[0;34m\u001b[0m\u001b[0m\n\u001b[1;32m     27\u001b[0m \u001b[0;34m\u001b[0m\u001b[0m\n",
      "\u001b[0;32m/opt/anaconda3/lib/python3.8/asyncio/tasks.py\u001b[0m in \u001b[0;36mcreate_task\u001b[0;34m(coro, name)\u001b[0m\n\u001b[1;32m    380\u001b[0m     \"\"\"\n\u001b[1;32m    381\u001b[0m     \u001b[0mloop\u001b[0m \u001b[0;34m=\u001b[0m \u001b[0mevents\u001b[0m\u001b[0;34m.\u001b[0m\u001b[0mget_running_loop\u001b[0m\u001b[0;34m(\u001b[0m\u001b[0;34m)\u001b[0m\u001b[0;34m\u001b[0m\u001b[0;34m\u001b[0m\u001b[0m\n\u001b[0;32m--> 382\u001b[0;31m     \u001b[0mtask\u001b[0m \u001b[0;34m=\u001b[0m \u001b[0mloop\u001b[0m\u001b[0;34m.\u001b[0m\u001b[0mcreate_task\u001b[0m\u001b[0;34m(\u001b[0m\u001b[0mcoro\u001b[0m\u001b[0;34m)\u001b[0m\u001b[0;34m\u001b[0m\u001b[0;34m\u001b[0m\u001b[0m\n\u001b[0m\u001b[1;32m    383\u001b[0m     \u001b[0m_set_task_name\u001b[0m\u001b[0;34m(\u001b[0m\u001b[0mtask\u001b[0m\u001b[0;34m,\u001b[0m \u001b[0mname\u001b[0m\u001b[0;34m)\u001b[0m\u001b[0;34m\u001b[0m\u001b[0;34m\u001b[0m\u001b[0m\n\u001b[1;32m    384\u001b[0m     \u001b[0;32mreturn\u001b[0m \u001b[0mtask\u001b[0m\u001b[0;34m\u001b[0m\u001b[0;34m\u001b[0m\u001b[0m\n",
      "\u001b[0;32m/opt/anaconda3/lib/python3.8/asyncio/base_events.py\u001b[0m in \u001b[0;36mcreate_task\u001b[0;34m(self, coro, name)\u001b[0m\n\u001b[1;32m    429\u001b[0m         \u001b[0mself\u001b[0m\u001b[0;34m.\u001b[0m\u001b[0m_check_closed\u001b[0m\u001b[0;34m(\u001b[0m\u001b[0;34m)\u001b[0m\u001b[0;34m\u001b[0m\u001b[0;34m\u001b[0m\u001b[0m\n\u001b[1;32m    430\u001b[0m         \u001b[0;32mif\u001b[0m \u001b[0mself\u001b[0m\u001b[0;34m.\u001b[0m\u001b[0m_task_factory\u001b[0m \u001b[0;32mis\u001b[0m \u001b[0;32mNone\u001b[0m\u001b[0;34m:\u001b[0m\u001b[0;34m\u001b[0m\u001b[0;34m\u001b[0m\u001b[0m\n\u001b[0;32m--> 431\u001b[0;31m             \u001b[0mtask\u001b[0m \u001b[0;34m=\u001b[0m \u001b[0mtasks\u001b[0m\u001b[0;34m.\u001b[0m\u001b[0mTask\u001b[0m\u001b[0;34m(\u001b[0m\u001b[0mcoro\u001b[0m\u001b[0;34m,\u001b[0m \u001b[0mloop\u001b[0m\u001b[0;34m=\u001b[0m\u001b[0mself\u001b[0m\u001b[0;34m,\u001b[0m \u001b[0mname\u001b[0m\u001b[0;34m=\u001b[0m\u001b[0mname\u001b[0m\u001b[0;34m)\u001b[0m\u001b[0;34m\u001b[0m\u001b[0;34m\u001b[0m\u001b[0m\n\u001b[0m\u001b[1;32m    432\u001b[0m             \u001b[0;32mif\u001b[0m \u001b[0mtask\u001b[0m\u001b[0;34m.\u001b[0m\u001b[0m_source_traceback\u001b[0m\u001b[0;34m:\u001b[0m\u001b[0;34m\u001b[0m\u001b[0;34m\u001b[0m\u001b[0m\n\u001b[1;32m    433\u001b[0m                 \u001b[0;32mdel\u001b[0m \u001b[0mtask\u001b[0m\u001b[0;34m.\u001b[0m\u001b[0m_source_traceback\u001b[0m\u001b[0;34m[\u001b[0m\u001b[0;34m-\u001b[0m\u001b[0;36m1\u001b[0m\u001b[0;34m]\u001b[0m\u001b[0;34m\u001b[0m\u001b[0;34m\u001b[0m\u001b[0m\n",
      "\u001b[0;31mTypeError\u001b[0m: a coroutine was expected, got 'Finished task: Task1, It took 1.26 seconds'"
     ]
    }
   ],
   "source": [
    "import random\n",
    "import time\n",
    "\n",
    "class Resource:\n",
    "\n",
    "    def __enter__(self):\n",
    "        print(f\"Initialize resources ...\")\n",
    "        time.sleep(2)\n",
    "        return self\n",
    "\n",
    "    def __exit__(self, exc_type, exc_val, exc_tb):\n",
    "        print(f\"Cleaning resources ...\")\n",
    "        time.sleep(2)\n",
    "\n",
    "    # async def process(self, item):\n",
    "    def process(self, item):\n",
    "        print(f\"Processing task: {item}\")\n",
    "        proc_time = random.uniform(1.0, 2.0)\n",
    "        time.sleep(proc_time)\n",
    "        return f\"Finished task: {item}, It took {proc_time:.2f} seconds\"\n",
    "\n",
    "async def processor() -> None:\n",
    "    items = ['Task1', 'Task2', 'Task3']\n",
    "    with Resource() as rs:\n",
    "        tasks = [asyncio.create_task(rs.process(item)) for item in items]\n",
    "        await asyncio.gather(*tasks)\n",
    "\n",
    "await processor()"
   ]
  },
  {
   "cell_type": "code",
   "execution_count": null,
   "metadata": {},
   "outputs": [
    {
     "name": "stdout",
     "output_type": "stream",
     "text": [
      "Initialize resources ...\n",
      "Processing task: Task1\n",
      "Processing task: Task2\n",
      "Processing task: Task3\n",
      "Cleaning resources ...\n"
     ]
    }
   ],
   "source": [
    "import random\n",
    "import time\n",
    "\n",
    "# 关于异步上下文管理器和一步迭代器, 可以阅读: https://bbc.github.io/cloudfit-public-docs/asyncio/asyncio-part-3.html\n",
    "# 更深入的实现, 阅读源码\n",
    "class AsyncResource:\n",
    "\n",
    "    async def __aenter__(self):\n",
    "        print(f\"Initialize resources ...\")\n",
    "        await asyncio.sleep(2)\n",
    "        return self\n",
    "\n",
    "    async def __aexit__(self, exc_type, exc_val, exc_tb):\n",
    "        print(f\"Cleaning resources ...\")\n",
    "        await asyncio.sleep(2)\n",
    "\n",
    "    async def process(self, item):\n",
    "        print(f\"Processing task: {item}\")\n",
    "        proc_time = random.uniform(1.0, 2.0)\n",
    "        await asyncio.sleep(proc_time)\n",
    "        return f\"Finished task: {item}, It took {proc_time:.2f} seconds\"\n",
    "\n",
    "async def processor() -> None:\n",
    "    items = ['Task1', 'Task2', 'Task3']\n",
    "    async with AsyncResource() as rs:\n",
    "        tasks = [asyncio.create_task(rs.process(item)) for item in items]\n",
    "        await asyncio.gather(*tasks)\n",
    "\n",
    "await processor()"
   ]
  },
  {
   "cell_type": "markdown",
   "metadata": {},
   "source": [
    "1. 下面是一个基于Generator来实现“暂停-恢复”机制的demo, 理解yield如何让出控制权\n",
    "2. 现在Python版本是基于asyncio event loop的协程实现"
   ]
  },
  {
   "cell_type": "code",
   "execution_count": 44,
   "metadata": {},
   "outputs": [
    {
     "name": "stdout",
     "output_type": "stream",
     "text": [
      "计数: 0\n",
      "倒计时: 5\n",
      "计数: 1\n",
      "计数: 2\n",
      "计数: 3\n",
      "计数: 4\n",
      "倒计时: 4\n",
      "倒计时: 3\n",
      "倒计时: 2\n",
      "倒计时: 1\n"
     ]
    }
   ],
   "source": [
    "from collections import deque\n",
    "import time\n",
    "import types\n",
    "\n",
    "# 通过调度器管理多个协程交替执行\n",
    "class Scheduler:\n",
    "    def __init__(self):\n",
    "        self.ready = deque()\n",
    "        self.sleeping = []\n",
    "        self.current = None\n",
    "\n",
    "    def new_task(self, coro):\n",
    "        self.ready.append(coro)\n",
    "\n",
    "    def run(self):\n",
    "        \"\"\"运行事件循环\"\"\"\n",
    "        while self.ready or self.sleeping:\n",
    "            if not self.ready:\n",
    "                # print(f\"No self.ready\")\n",
    "                self.sleeping.sort(key=lambda t: t[0])\n",
    "                deadline, coro = self.sleeping.pop(0)\n",
    "                delta = deadline - time.time()\n",
    "                if delta > 0:\n",
    "                    time.sleep(delta)\n",
    "                self.ready.append(coro)\n",
    "\n",
    "            self.current = self.ready.popleft()\n",
    "            try:\n",
    "                # 生成器(Generator)不仅可以yield值, 还可以接受外部传入的值, send()方法就是向生成器发送数据的\n",
    "                # send(None): 相当于next(generator), 用于启动生成器\n",
    "                # send(value): 恢复生成器并传入一个值(这个值会成为yield表达式的结果)\n",
    "                result = self.current.send(None)\n",
    "\n",
    "                if isinstance(result, types.GeneratorType):\n",
    "                    # print(f\"Enter types.GeneratorType\")\n",
    "                    self.new_task(result)\n",
    "                elif isinstance(result, Sleep):\n",
    "                    # print(f\"Enter Sleep, result.util = {result.until}, self.current = {self.current}\")\n",
    "                    self.sleeping.append((result.until, self.current))\n",
    "                else:\n",
    "                    self.new_task(self.current)\n",
    "            except StopIteration:\n",
    "                pass\n",
    "\n",
    "    def sleep(self, delay):\n",
    "        return Sleep(time.time() + delay)\n",
    "\n",
    "# Sleep类似于asyncio.sleep\n",
    "class Sleep:\n",
    "    \"\"\"休眠请求封装\"\"\"\n",
    "    def __init__(self, until):\n",
    "        self.until = until\n",
    "\n",
    "def countdown(n):\n",
    "    while n > 0:\n",
    "        print(f\"倒计时: {n}\")\n",
    "        # yield类似于await, 通过yield暂停和恢复执行\n",
    "        # 1s后唤醒countdown协程\n",
    "        yield sched.sleep(5)\n",
    "        n -= 1\n",
    "\n",
    "def countup(stop):\n",
    "    x = 0\n",
    "    while x < stop:\n",
    "        print(f'计数: {x}')\n",
    "        # 0.5s后唤醒countup协程\n",
    "        yield sched.sleep(1)  # 协程暂停0.5秒\n",
    "        x += 1\n",
    "\n",
    "# 创建调度器实例\n",
    "sched = Scheduler()\n",
    "\n",
    "# 添加任务\n",
    "sched.new_task(countup(5))\n",
    "sched.new_task(countdown(5))\n",
    "\n",
    "sched.run()\n"
   ]
  },
  {
   "cell_type": "code",
   "execution_count": null,
   "metadata": {},
   "outputs": [],
   "source": []
  }
 ],
 "metadata": {
  "kernelspec": {
   "display_name": "base",
   "language": "python",
   "name": "python3"
  },
  "language_info": {
   "codemirror_mode": {
    "name": "ipython",
    "version": 3
   },
   "file_extension": ".py",
   "mimetype": "text/x-python",
   "name": "python",
   "nbconvert_exporter": "python",
   "pygments_lexer": "ipython3",
   "version": "3.8.8"
  }
 },
 "nbformat": 4,
 "nbformat_minor": 2
}
