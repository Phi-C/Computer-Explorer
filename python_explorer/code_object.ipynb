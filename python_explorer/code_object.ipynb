{
 "cells": [
  {
   "cell_type": "code",
   "execution_count": 2,
   "metadata": {},
   "outputs": [],
   "source": [
    "import dis"
   ]
  },
  {
   "cell_type": "code",
   "execution_count": 3,
   "metadata": {},
   "outputs": [],
   "source": [
    "def toy_add(a, b):\n",
    "    c = a + b\n",
    "    return c\n",
    "\n",
    "code_string = '''\n",
    "def toy_add(a, b):\n",
    "    c = a + b\n",
    "    return c\n",
    "'''"
   ]
  },
  {
   "cell_type": "code",
   "execution_count": 4,
   "metadata": {},
   "outputs": [
    {
     "name": "stdout",
     "output_type": "stream",
     "text": [
      "<code object toy_add at 0x7ff1e06c8df0, file \"/var/folders/m5/1323cc4x5ylb9d74nmw5y_bw0000gp/T/ipykernel_20862/1267124909.py\", line 1>\n",
      "<code object <module> at 0x7ff1e0633f50, file \"<string>\", line 2>\n"
     ]
    }
   ],
   "source": [
    "# 输出函数对象的代码对象\n",
    "print(toy_add.__code__)\n",
    "\n",
    "# 编译函数返回的字符串并输出编译后的代码对象\n",
    "compiled_code = compile(code_string, \"<string>\", \"exec\")\n",
    "print(compiled_code)"
   ]
  },
  {
   "cell_type": "code",
   "execution_count": 5,
   "metadata": {},
   "outputs": [
    {
     "name": "stdout",
     "output_type": "stream",
     "text": [
      "co_argcount: 0\n",
      "co_cellvars: ()\n",
      "co_code: b'd\\x00d\\x01\\x84\\x00Z\\x00d\\x02S\\x00'\n",
      "co_consts: (<code object toy_add at 0x7ff1f0aeb710, file \"<string>\", line 2>, 'toy_add', None)\n",
      "co_filename: <string>\n",
      "co_firstlineno: 2\n",
      "co_flags: 64\n",
      "co_freevars: ()\n",
      "co_kwonlyargcount: 0\n",
      "co_lnotab: b''\n",
      "co_name: <module>\n",
      "co_names: ('toy_add',)\n",
      "co_nlocals: 0\n",
      "co_posonlyargcount: 0\n",
      "co_stacksize: 2\n",
      "co_varnames: ()\n",
      "replace: <built-in method replace of code object at 0x7ff1e0633f50>\n"
     ]
    }
   ],
   "source": [
    "for attr in dir(compiled_code):\n",
    "    if not attr.startswith(\"__\"):   # 过滤掉内置方法\n",
    "        try:\n",
    "            value = getattr(compiled_code, attr)\n",
    "            print(f\"{attr}: {value}\")\n",
    "        except AttributeError:\n",
    "            pass"
   ]
  },
  {
   "cell_type": "code",
   "execution_count": 7,
   "metadata": {},
   "outputs": [
    {
     "name": "stdout",
     "output_type": "stream",
     "text": [
      "co_argcount: 2\n",
      "co_cellvars: ()\n",
      "co_code: b'|\\x00|\\x01\\x17\\x00}\\x02|\\x02S\\x00'\n",
      "co_consts: (None,)\n",
      "co_filename: /var/folders/m5/1323cc4x5ylb9d74nmw5y_bw0000gp/T/ipykernel_20862/1267124909.py\n",
      "co_firstlineno: 1\n",
      "co_flags: 67\n",
      "co_freevars: ()\n",
      "co_kwonlyargcount: 0\n",
      "co_lnotab: b'\\x00\\x01\\x08\\x01'\n",
      "co_name: toy_add\n",
      "co_names: ()\n",
      "co_nlocals: 3\n",
      "co_posonlyargcount: 0\n",
      "co_stacksize: 2\n",
      "co_varnames: ('a', 'b', 'c')\n",
      "replace: <built-in method replace of code object at 0x7ff1e06c8df0>\n"
     ]
    }
   ],
   "source": [
    "for attr in dir(toy_add.__code__):\n",
    "    if not attr.startswith(\"__\"):   # 过滤掉内置方法\n",
    "        try:\n",
    "            value = getattr(toy_add.__code__, attr)\n",
    "            print(f\"{attr}: {value}\")\n",
    "        except AttributeError:\n",
    "            pass"
   ]
  },
  {
   "cell_type": "code",
   "execution_count": 9,
   "metadata": {},
   "outputs": [
    {
     "name": "stdout",
     "output_type": "stream",
     "text": [
      "          0 LOAD_FAST                0 (0)\n",
      "          2 LOAD_FAST                1 (1)\n",
      "          4 BINARY_ADD\n",
      "          6 STORE_FAST               2 (2)\n",
      "          8 LOAD_FAST                2 (2)\n",
      "         10 RETURN_VALUE\n"
     ]
    }
   ],
   "source": [
    "dis.dis(toy_add.__code__.co_code)"
   ]
  },
  {
   "cell_type": "markdown",
   "metadata": {},
   "source": [
    "[dis模块文档](https://docs.python.org/3.7/library/dis.html)包含了虚拟机目前实现的所有操作码的完整列表和说明"
   ]
  },
  {
   "cell_type": "code",
   "execution_count": 8,
   "metadata": {},
   "outputs": [
    {
     "name": "stdout",
     "output_type": "stream",
     "text": [
      "co_argcount: 1\n",
      "co_cellvars: ()\n",
      "co_code: b'|\\x00d\\x01\\x16\\x00d\\x02k\\x02r\\x1c|\\x00d\\x03\\x16\\x00d\\x02k\\x02r\\x1cd\\x04S\\x00|\\x00d\\x01\\x16\\x00d\\x02k\\x02r,d\\x05S\\x00|\\x00d\\x03\\x16\\x00d\\x02k\\x02r<d\\x06S\\x00t\\x00|\\x00\\x83\\x01S\\x00d\\x00S\\x00'\n",
      "co_consts: (None, 3, 0, 5, 'FizzBuzz', 'Fizz', 'Buzz')\n",
      "co_filename: /var/folders/m5/1323cc4x5ylb9d74nmw5y_bw0000gp/T/ipykernel_20862/4151263891.py\n",
      "co_firstlineno: 1\n",
      "co_flags: 67\n",
      "co_freevars: ()\n",
      "co_kwonlyargcount: 0\n",
      "co_lnotab: b'\\x00\\x01\\x18\\x01\\x04\\x01\\x0c\\x01\\x04\\x01\\x0c\\x01\\x04\\x02'\n",
      "co_name: fizzbuzz\n",
      "co_names: ('str',)\n",
      "co_nlocals: 1\n",
      "co_posonlyargcount: 0\n",
      "co_stacksize: 2\n",
      "co_varnames: ('n',)\n"
     ]
    }
   ],
   "source": [
    "def fizzbuzz(n):\n",
    "    if n % 3 == 0 and n % 5 == 0:\n",
    "        return 'FizzBuzz'\n",
    "    elif n % 3 == 0:\n",
    "        return 'Fizz'\n",
    "    elif n % 5 == 0:\n",
    "        return 'Buzz'\n",
    "    else:\n",
    "        return str(n)\n",
    "\n",
    "for attr in dir(fizzbuzz.__code__):\n",
    "    if attr.startswith('co_'):\n",
    "        value = getattr(fizzbuzz.__code__, attr)\n",
    "        print(f\"{attr}: {value}\")"
   ]
  },
  {
   "cell_type": "code",
   "execution_count": 10,
   "metadata": {},
   "outputs": [
    {
     "name": "stdout",
     "output_type": "stream",
     "text": [
      "          0 LOAD_FAST                0 (0)\n",
      "          2 LOAD_CONST               1 (1)\n",
      "          4 BINARY_MODULO\n",
      "          6 LOAD_CONST               2 (2)\n",
      "          8 COMPARE_OP               2 (==)\n",
      "         10 POP_JUMP_IF_FALSE       28\n",
      "         12 LOAD_FAST                0 (0)\n",
      "         14 LOAD_CONST               3 (3)\n",
      "         16 BINARY_MODULO\n",
      "         18 LOAD_CONST               2 (2)\n",
      "         20 COMPARE_OP               2 (==)\n",
      "         22 POP_JUMP_IF_FALSE       28\n",
      "         24 LOAD_CONST               4 (4)\n",
      "         26 RETURN_VALUE\n",
      "    >>   28 LOAD_FAST                0 (0)\n",
      "         30 LOAD_CONST               1 (1)\n",
      "         32 BINARY_MODULO\n",
      "         34 LOAD_CONST               2 (2)\n",
      "         36 COMPARE_OP               2 (==)\n",
      "         38 POP_JUMP_IF_FALSE       44\n",
      "         40 LOAD_CONST               5 (5)\n",
      "         42 RETURN_VALUE\n",
      "    >>   44 LOAD_FAST                0 (0)\n",
      "         46 LOAD_CONST               3 (3)\n",
      "         48 BINARY_MODULO\n",
      "         50 LOAD_CONST               2 (2)\n",
      "         52 COMPARE_OP               2 (==)\n",
      "         54 POP_JUMP_IF_FALSE       60\n",
      "         56 LOAD_CONST               6 (6)\n",
      "         58 RETURN_VALUE\n",
      "    >>   60 LOAD_GLOBAL              0 (0)\n",
      "         62 LOAD_FAST                0 (0)\n",
      "         64 CALL_FUNCTION            1\n",
      "         66 RETURN_VALUE\n",
      "         68 LOAD_CONST               0 (0)\n",
      "         70 RETURN_VALUE\n"
     ]
    }
   ],
   "source": [
    "dis.dis(fizzbuzz.__code__.co_code)"
   ]
  },
  {
   "cell_type": "markdown",
   "metadata": {},
   "source": [
    "## 嵌套的代码对象"
   ]
  },
  {
   "cell_type": "code",
   "execution_count": 11,
   "metadata": {},
   "outputs": [],
   "source": [
    "def test():\n",
    "    print(c)\n",
    "    a = 1\n",
    "    b = 3\n",
    "    def g():\n",
    "        print(a+b)\n",
    "        c=2\n",
    "        def h():\n",
    "            print(a+b+c)"
   ]
  },
  {
   "cell_type": "code",
   "execution_count": 15,
   "metadata": {},
   "outputs": [
    {
     "name": "stdout",
     "output_type": "stream",
     "text": [
      "co_argcount: 0\n",
      "co_cellvars: ('a', 'b')\n",
      "co_code: b't\\x00t\\x01\\x83\\x01\\x01\\x00d\\x01\\x89\\x00d\\x02\\x89\\x01\\x87\\x00\\x87\\x01f\\x02d\\x03d\\x04\\x84\\x08}\\x00d\\x00S\\x00'\n",
      "co_consts: (None, 1, 3, <code object g at 0x7ff20086d660, file \"/var/folders/m5/1323cc4x5ylb9d74nmw5y_bw0000gp/T/ipykernel_20862/1312698344.py\", line 5>, 'test.<locals>.g')\n",
      "co_filename: /var/folders/m5/1323cc4x5ylb9d74nmw5y_bw0000gp/T/ipykernel_20862/1312698344.py\n",
      "co_firstlineno: 1\n",
      "co_flags: 3\n",
      "co_freevars: ()\n",
      "co_kwonlyargcount: 0\n",
      "co_lnotab: b'\\x00\\x01\\x08\\x01\\x04\\x01\\x04\\x01'\n",
      "co_name: test\n",
      "co_names: ('print', 'c')\n",
      "co_nlocals: 1\n",
      "co_posonlyargcount: 0\n",
      "co_stacksize: 3\n",
      "co_varnames: ('g',)\n"
     ]
    }
   ],
   "source": [
    "for attr in dir(test.__code__):\n",
    "    if attr.startswith('co_'):\n",
    "        value = getattr(test.__code__, attr)\n",
    "        print(f\"{attr}: {value}\")"
   ]
  },
  {
   "cell_type": "code",
   "execution_count": 16,
   "metadata": {},
   "outputs": [
    {
     "name": "stdout",
     "output_type": "stream",
     "text": [
      "  2           0 LOAD_GLOBAL              0 (print)\n",
      "              2 LOAD_GLOBAL              1 (c)\n",
      "              4 CALL_FUNCTION            1\n",
      "              6 POP_TOP\n",
      "\n",
      "  3           8 LOAD_CONST               1 (1)\n",
      "             10 STORE_DEREF              0 (a)\n",
      "\n",
      "  4          12 LOAD_CONST               2 (3)\n",
      "             14 STORE_DEREF              1 (b)\n",
      "\n",
      "  5          16 LOAD_CLOSURE             0 (a)\n",
      "             18 LOAD_CLOSURE             1 (b)\n",
      "             20 BUILD_TUPLE              2\n",
      "             22 LOAD_CONST               3 (<code object g at 0x7ff20086d660, file \"/var/folders/m5/1323cc4x5ylb9d74nmw5y_bw0000gp/T/ipykernel_20862/1312698344.py\", line 5>)\n",
      "             24 LOAD_CONST               4 ('test.<locals>.g')\n",
      "             26 MAKE_FUNCTION            8 (closure)\n",
      "             28 STORE_FAST               0 (g)\n",
      "             30 LOAD_CONST               0 (None)\n",
      "             32 RETURN_VALUE\n",
      "\n",
      "Disassembly of <code object g at 0x7ff20086d660, file \"/var/folders/m5/1323cc4x5ylb9d74nmw5y_bw0000gp/T/ipykernel_20862/1312698344.py\", line 5>:\n",
      "  6           0 LOAD_GLOBAL              0 (print)\n",
      "              2 LOAD_DEREF               1 (a)\n",
      "              4 LOAD_DEREF               2 (b)\n",
      "              6 BINARY_ADD\n",
      "              8 CALL_FUNCTION            1\n",
      "             10 POP_TOP\n",
      "\n",
      "  7          12 LOAD_CONST               1 (2)\n",
      "             14 STORE_DEREF              0 (c)\n",
      "\n",
      "  8          16 LOAD_CLOSURE             1 (a)\n",
      "             18 LOAD_CLOSURE             2 (b)\n",
      "             20 LOAD_CLOSURE             0 (c)\n",
      "             22 BUILD_TUPLE              3\n",
      "             24 LOAD_CONST               2 (<code object h at 0x7ff20086d920, file \"/var/folders/m5/1323cc4x5ylb9d74nmw5y_bw0000gp/T/ipykernel_20862/1312698344.py\", line 8>)\n",
      "             26 LOAD_CONST               3 ('test.<locals>.g.<locals>.h')\n",
      "             28 MAKE_FUNCTION            8 (closure)\n",
      "             30 STORE_FAST               0 (h)\n",
      "             32 LOAD_CONST               0 (None)\n",
      "             34 RETURN_VALUE\n",
      "\n",
      "Disassembly of <code object h at 0x7ff20086d920, file \"/var/folders/m5/1323cc4x5ylb9d74nmw5y_bw0000gp/T/ipykernel_20862/1312698344.py\", line 8>:\n",
      "  9           0 LOAD_GLOBAL              0 (print)\n",
      "              2 LOAD_DEREF               0 (a)\n",
      "              4 LOAD_DEREF               1 (b)\n",
      "              6 BINARY_ADD\n",
      "              8 LOAD_DEREF               2 (c)\n",
      "             10 BINARY_ADD\n",
      "             12 CALL_FUNCTION            1\n",
      "             14 POP_TOP\n",
      "             16 LOAD_CONST               0 (None)\n",
      "             18 RETURN_VALUE\n"
     ]
    }
   ],
   "source": [
    "dis.dis(test.__code__)"
   ]
  }
 ],
 "metadata": {
  "kernelspec": {
   "display_name": "torch",
   "language": "python",
   "name": "python3"
  },
  "language_info": {
   "codemirror_mode": {
    "name": "ipython",
    "version": 3
   },
   "file_extension": ".py",
   "mimetype": "text/x-python",
   "name": "python",
   "nbconvert_exporter": "python",
   "pygments_lexer": "ipython3",
   "version": "3.8.13"
  }
 },
 "nbformat": 4,
 "nbformat_minor": 2
}
