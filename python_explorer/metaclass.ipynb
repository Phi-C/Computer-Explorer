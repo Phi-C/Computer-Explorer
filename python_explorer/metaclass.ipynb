{
 "cells": [
  {
   "cell_type": "markdown",
   "id": "e6387c80",
   "metadata": {},
   "source": [
    "## 使用metaclass实现一个插件系统\n",
    "假设我们要开发一个插件系统，所有插件类(e.g AddLayerNormPlugin、RoPEPlugin等)都自动注册到一个中央仓库, 而不需要手动添加"
   ]
  },
  {
   "cell_type": "markdown",
   "id": "1859bfd0",
   "metadata": {},
   "source": [
    "## 什么时候需要设计插件系统\n",
    "插件系统适合以下场景：\n",
    "\n",
    "* 需要扩展功能但不想修改核心代码\n",
    "\n",
    "* 不同用户/场景需要不同功能组合\n",
    "数据分析工具可能允许用户按需加载数据源插件（Excel、SQL、API等）。\n",
    "\n",
    "* 希望降低代码耦合度\n",
    "核心系统与插件通过接口交互，避免硬编码依赖。\n",
    "\n",
    "* 动态加载和卸载功能\n",
    "服务器程序可以在运行时加载鉴权插件或日志插件。"
   ]
  },
  {
   "cell_type": "code",
   "execution_count": 2,
   "id": "c3ec7b10",
   "metadata": {},
   "outputs": [
    {
     "name": "stdout",
     "output_type": "stream",
     "text": [
      "{'addlayernorm': <class '__main__.AddLayerNormPlugin'>}\n"
     ]
    }
   ],
   "source": [
    "class PluginMeta(type):\n",
    "    registry = {}\n",
    "\n",
    "    def __new__(cls, name, bases, namespace):\n",
    "        # 1. 创建新类\n",
    "        new_cls = super().__new__(cls, name, bases, namespace)\n",
    "\n",
    "        # 忽略BasePlugin, 只注册子类\n",
    "        if name != \"BasePlugin\":\n",
    "            plugin_name = namespace.get(\"name\", name.lower())\n",
    "            cls.registry[plugin_name] = new_cls\n",
    "\n",
    "        return new_cls\n",
    "\n",
    "class BasePlugin(metaclass=PluginMeta):\n",
    "    name = \"base\"\n",
    "\n",
    "    def forward(self, *args, **kwargs):\n",
    "        raise NotImplementedError(\"Subclasses must implement forward\")\n",
    "\n",
    "class AddLayerNormPlugin(BasePlugin):\n",
    "    name = \"addlayernorm\"\n",
    "\n",
    "    def forward(self, x, y, eps=1e-10):\n",
    "        z = x + y\n",
    "        return z + 1\n",
    "\n",
    "print(PluginMeta.registry)\n"
   ]
  },
  {
   "cell_type": "code",
   "execution_count": 3,
   "id": "498698cb",
   "metadata": {},
   "outputs": [
    {
     "name": "stdout",
     "output_type": "stream",
     "text": [
      "{'addlayernorm': <class '__main__.AddLayerNormPlugin'>, 'rope': <class '__main__.RoPEPlugin'>}\n"
     ]
    }
   ],
   "source": [
    "class RoPEPlugin(BasePlugin):\n",
    "    name = \"rope\"\n",
    "\n",
    "    def forward(self, x, cos, sin):\n",
    "        return x * cos + x * sin\n",
    "\n",
    "print(PluginMeta.registry)"
   ]
  },
  {
   "cell_type": "code",
   "execution_count": 5,
   "id": "041aa00d",
   "metadata": {},
   "outputs": [
    {
     "name": "stdout",
     "output_type": "stream",
     "text": [
      "5\n"
     ]
    }
   ],
   "source": [
    "rope_plugin_cls = PluginMeta.registry[\"rope\"]\n",
    "rope_plugin = rope_plugin_cls()\n",
    "result = rope_plugin.forward(1, 2, 3)\n",
    "print(result)"
   ]
  },
  {
   "cell_type": "markdown",
   "id": "ccf8bdf4",
   "metadata": {},
   "source": [
    "## 控制类的实例化\n",
    "比如可以确保类只有一个实例(Singleton)"
   ]
  },
  {
   "cell_type": "code",
   "execution_count": 18,
   "id": "189a8818",
   "metadata": {},
   "outputs": [
    {
     "name": "stderr",
     "output_type": "stream",
     "text": [
      "<ipython-input-18-f1e7e49b176b>:10: UserWarning: <class '__main__.Log'> already exists, it is singleton\n",
      "  warnings.warn(f\"{cls} already exists, it is singleton\")\n",
      "<ipython-input-18-f1e7e49b176b>:10: UserWarning: <class '__main__.AnotherSingleton'> already exists, it is singleton\n",
      "  warnings.warn(f\"{cls} already exists, it is singleton\")\n"
     ]
    }
   ],
   "source": [
    "import warnings\n",
    "\n",
    "class SingletonMeta(type):\n",
    "    _instances = {}\n",
    "\n",
    "    def __call__(cls, *args, **kwargs):\n",
    "        if cls not in cls._instances:\n",
    "            cls._instances[cls] = super().__call__(*args, **kwargs)\n",
    "        else:\n",
    "            warnings.warn(f\"{cls} already exists, it is singleton\")\n",
    "            \n",
    "        return cls._instances[cls]\n",
    "\n",
    "class Log(metaclass=SingletonMeta):\n",
    "    def __init__(self, name, level):\n",
    "        self.name = name\n",
    "        self.level = level\n",
    "\n",
    "log1 = Log(\"qwen\", \"info\")\n",
    "log2 = Log(\"deepseek\", \"debug\")\n",
    "\n",
    "class AnotherSingleton(metaclass=SingletonMeta):\n",
    "    def __init__(self):\n",
    "        self.num = 5\n",
    "\n",
    "a = AnotherSingleton()\n",
    "b = AnotherSingleton()\n"
   ]
  }
 ],
 "metadata": {
  "kernelspec": {
   "display_name": "base",
   "language": "python",
   "name": "python3"
  },
  "language_info": {
   "codemirror_mode": {
    "name": "ipython",
    "version": 3
   },
   "file_extension": ".py",
   "mimetype": "text/x-python",
   "name": "python",
   "nbconvert_exporter": "python",
   "pygments_lexer": "ipython3",
   "version": "3.8.8"
  }
 },
 "nbformat": 4,
 "nbformat_minor": 5
}
