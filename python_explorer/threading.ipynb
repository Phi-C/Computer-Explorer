{
 "cells": [
  {
   "cell_type": "code",
   "execution_count": 4,
   "id": "6657272b",
   "metadata": {},
   "outputs": [],
   "source": [
    "import threading\n",
    "\n",
    "lock = threading.Lock()\n",
    "\n",
    "def recursive(n: int) -> int:\n",
    "    lock.acquire()\n",
    "    if n > 0:\n",
    "        return n * recursive(n-1)\n",
    "    else:\n",
    "        return 1\n",
    "    lock.release()\n",
    "\n",
    "# 会卡住: 普通互斥锁threading.Lock, 当同一线程重复获取会死锁\n",
    "# recursive(3)"
   ]
  },
  {
   "cell_type": "code",
   "execution_count": 6,
   "id": "d919e212",
   "metadata": {},
   "outputs": [
    {
     "name": "stdout",
     "output_type": "stream",
     "text": [
      "6\n"
     ]
    }
   ],
   "source": [
    "rlock = threading.RLock()\n",
    "\n",
    "def recursive_rl(n: int) -> int:\n",
    "    with rlock:\n",
    "        if n > 0:\n",
    "            return n * recursive_rl(n-1)\n",
    "        else:\n",
    "            return 1\n",
    "\n",
    "print(recursive_rl(3))"
   ]
  },
  {
   "cell_type": "markdown",
   "id": "8edae991",
   "metadata": {},
   "source": [
    "### threading.local\n",
    "TLS: thrading local storage"
   ]
  },
  {
   "cell_type": "code",
   "execution_count": null,
   "id": "ebe75644",
   "metadata": {},
   "outputs": [
    {
     "name": "stdout",
     "output_type": "stream",
     "text": [
      "Thread 13105360896: value = 13105360896Thread 13122150400: value = 13122150400Thread 13138939904: value = 13138939904\n",
      "\n",
      "\n",
      "It took 3.005528688430786 s\n",
      "Main thread 8667832832: value = 0\n",
      "\n"
     ]
    }
   ],
   "source": [
    "import threading\n",
    "import time\n",
    "\n",
    "class TSLData(threading.local):\n",
    "    def __init__(self):\n",
    "        self.value = 0\n",
    "\n",
    "\n",
    "# 这个TSLData实例本身是全局所有线程共享的(所有线程访问同一个对象)\n",
    "# 但是通过threading.local的魔法, 它的属性data.value是线程隔离的. TODO: threading.local是如何实现这一点的? 参考CPython: _threading_local.py. 代码不长\n",
    "# 比喻: 想象一个共享的保险箱（data），但每个线程用自己的钥匙打开时，会看到独立的抽屉（data.value）。虽然保险箱是同一个，但抽屉里的内容互不可见。\n",
    "data = TSLData()\n",
    "\n",
    "def worker():\n",
    "    data.value = threading.get_ident()\n",
    "    time.sleep(3)\n",
    "    print(f\"Thread {threading.get_ident()}: value = {data.value}\\n\")\n",
    "\n",
    "\n",
    "threads = []\n",
    "for _ in range(3):\n",
    "    t = threading.Thread(target=worker)\n",
    "    threads.append(t)\n",
    "    t.start()\n",
    "\n",
    "start_time = time.time()\n",
    "for t in threads:\n",
    "    t.join()\n",
    "print(f\"It took {time.time() - start_time} s\")\n",
    "\n",
    "print(f\"Main thread {threading.get_ident()}: value = {data.value}\\n\")"
   ]
  },
  {
   "cell_type": "markdown",
   "id": "416b1c6d",
   "metadata": {},
   "source": [
    "## 自己实现thread.local\n",
    "TLS对象在每个线程有一份自己的属性, 这里会涉及到几个magic methods:\n",
    "1. \\_\\_getattribute\\_\\_(self, name): 访问对象的任何属性时触发\n",
    "2. \\_\\_getattr\\_\\_(self, name):  当访问不存在的属性时触发（\\_\\_getattribute\\_\\_ 找不到属性后才会调用它）\n",
    "3. \\_\\_setattr\\_\\_(self, name, value): 当设置对象的属性时触发\n",
    "4. \\_\\_delattr\\_\\_(self, name): 当删除对象的属性时触发(del obj.x)\n",
    "\n",
    "虽然不是魔术方法，但 \\_\\_dict\\_\\_ 存储了对象的所有属性（除非使用了\\_\\_slots\\_\\_）. 可以覆盖 \\_\\_getattribute\\_\\_ 和 \\_\\_setattr\\_\\_ 来模拟 \\_\\_dict\\_\\_ 的行为"
   ]
  },
  {
   "cell_type": "code",
   "execution_count": 121,
   "id": "1a69ef8f",
   "metadata": {},
   "outputs": [
    {
     "ename": "RecursionError",
     "evalue": "maximum recursion depth exceeded",
     "output_type": "error",
     "traceback": [
      "\u001b[0;31m---------------------------------------------------------------------------\u001b[0m",
      "\u001b[0;31mRecursionError\u001b[0m                            Traceback (most recent call last)",
      "\u001b[0;32m<ipython-input-121-59c83742d345>\u001b[0m in \u001b[0;36m<module>\u001b[0;34m\u001b[0m\n\u001b[1;32m      8\u001b[0m \u001b[0;34m\u001b[0m\u001b[0m\n\u001b[1;32m      9\u001b[0m \u001b[0mobj\u001b[0m \u001b[0;34m=\u001b[0m \u001b[0mBadRecursionExample\u001b[0m\u001b[0;34m(\u001b[0m\u001b[0;34m)\u001b[0m\u001b[0;34m\u001b[0m\u001b[0;34m\u001b[0m\u001b[0m\n\u001b[0;32m---> 10\u001b[0;31m \u001b[0mprint\u001b[0m\u001b[0;34m(\u001b[0m\u001b[0mobj\u001b[0m\u001b[0;34m.\u001b[0m\u001b[0mx\u001b[0m\u001b[0;34m)\u001b[0m\u001b[0;34m\u001b[0m\u001b[0;34m\u001b[0m\u001b[0m\n\u001b[0m",
      "\u001b[0;32m<ipython-input-121-59c83742d345>\u001b[0m in \u001b[0;36m__getattribute__\u001b[0;34m(self, name)\u001b[0m\n\u001b[1;32m      5\u001b[0m     \u001b[0;32mdef\u001b[0m \u001b[0m__getattribute__\u001b[0m\u001b[0;34m(\u001b[0m\u001b[0mself\u001b[0m\u001b[0;34m,\u001b[0m \u001b[0mname\u001b[0m\u001b[0;34m)\u001b[0m\u001b[0;34m:\u001b[0m\u001b[0;34m\u001b[0m\u001b[0;34m\u001b[0m\u001b[0m\n\u001b[1;32m      6\u001b[0m         \u001b[0;31m# 直接访问 self.name 会再次触发 __getattribute__，导致无限递归\u001b[0m\u001b[0;34m\u001b[0m\u001b[0;34m\u001b[0m\u001b[0;34m\u001b[0m\u001b[0m\n\u001b[0;32m----> 7\u001b[0;31m         \u001b[0;32mreturn\u001b[0m \u001b[0mself\u001b[0m\u001b[0;34m.\u001b[0m\u001b[0m__dict__\u001b[0m\u001b[0;34m[\u001b[0m\u001b[0mname\u001b[0m\u001b[0;34m]\u001b[0m    \u001b[0;31m# 这里会无限调用__getattribute__\u001b[0m\u001b[0;34m\u001b[0m\u001b[0;34m\u001b[0m\u001b[0m\n\u001b[0m\u001b[1;32m      8\u001b[0m \u001b[0;34m\u001b[0m\u001b[0m\n\u001b[1;32m      9\u001b[0m \u001b[0mobj\u001b[0m \u001b[0;34m=\u001b[0m \u001b[0mBadRecursionExample\u001b[0m\u001b[0;34m(\u001b[0m\u001b[0;34m)\u001b[0m\u001b[0;34m\u001b[0m\u001b[0;34m\u001b[0m\u001b[0m\n",
      "... last 1 frames repeated, from the frame below ...\n",
      "\u001b[0;32m<ipython-input-121-59c83742d345>\u001b[0m in \u001b[0;36m__getattribute__\u001b[0;34m(self, name)\u001b[0m\n\u001b[1;32m      5\u001b[0m     \u001b[0;32mdef\u001b[0m \u001b[0m__getattribute__\u001b[0m\u001b[0;34m(\u001b[0m\u001b[0mself\u001b[0m\u001b[0;34m,\u001b[0m \u001b[0mname\u001b[0m\u001b[0;34m)\u001b[0m\u001b[0;34m:\u001b[0m\u001b[0;34m\u001b[0m\u001b[0;34m\u001b[0m\u001b[0m\n\u001b[1;32m      6\u001b[0m         \u001b[0;31m# 直接访问 self.name 会再次触发 __getattribute__，导致无限递归\u001b[0m\u001b[0;34m\u001b[0m\u001b[0;34m\u001b[0m\u001b[0;34m\u001b[0m\u001b[0m\n\u001b[0;32m----> 7\u001b[0;31m         \u001b[0;32mreturn\u001b[0m \u001b[0mself\u001b[0m\u001b[0;34m.\u001b[0m\u001b[0m__dict__\u001b[0m\u001b[0;34m[\u001b[0m\u001b[0mname\u001b[0m\u001b[0;34m]\u001b[0m    \u001b[0;31m# 这里会无限调用__getattribute__\u001b[0m\u001b[0;34m\u001b[0m\u001b[0;34m\u001b[0m\u001b[0m\n\u001b[0m\u001b[1;32m      8\u001b[0m \u001b[0;34m\u001b[0m\u001b[0m\n\u001b[1;32m      9\u001b[0m \u001b[0mobj\u001b[0m \u001b[0;34m=\u001b[0m \u001b[0mBadRecursionExample\u001b[0m\u001b[0;34m(\u001b[0m\u001b[0;34m)\u001b[0m\u001b[0;34m\u001b[0m\u001b[0;34m\u001b[0m\u001b[0m\n",
      "\u001b[0;31mRecursionError\u001b[0m: maximum recursion depth exceeded"
     ]
    }
   ],
   "source": [
    "class BadRecursionExample:\n",
    "    def __init__(self):\n",
    "        self.x = 10\n",
    "\n",
    "    def __getattribute__(self, name):\n",
    "        # 直接访问 self.name 会再次触发 __getattribute__，导致无限递归\n",
    "        return self.__dict__[name]    # 这里会无限调用__getattribute__\n",
    "\n",
    "obj = BadRecursionExample()\n",
    "print(obj.x)"
   ]
  },
  {
   "cell_type": "code",
   "execution_count": null,
   "id": "687e2946",
   "metadata": {},
   "outputs": [
    {
     "name": "stdout",
     "output_type": "stream",
     "text": [
      "10\n"
     ]
    }
   ],
   "source": [
    "class GoodExample:\n",
    "    def __init__(self):\n",
    "        self.x = 10\n",
    "\n",
    "    def __getattribute__(self, name):\n",
    "        # 使用object.__getattribute__可以直接调用object基类的__getattribute__方法, 绕过当前类可能重写的__getattribute__\n",
    "        return object.__getattribute__(self, name)\n",
    "\n",
    "obj = GoodExample()\n",
    "print(obj.x)"
   ]
  },
  {
   "cell_type": "code",
   "execution_count": null,
   "id": "5fa07ac2",
   "metadata": {},
   "outputs": [
    {
     "name": "stdout",
     "output_type": "stream",
     "text": [
      "before subtitution, __dict__ = {}\n",
      "after subtitution, __dict__ = {}\n",
      "before subtitution, __dict__ = {}\n",
      "after subtitution, __dict__ = {}\n",
      "before subtitution, __dict__ = {}\n",
      "after subtitution, __dict__ = {}\n",
      "before subtitution, __dict__ = {'value': 13122150400}\n",
      "after subtitution, __dict__ = {'value': 13122150400}\n",
      "In 13122150400, tls.value = 13122150400\n",
      "before subtitution, __dict__ = {'value': 13122150400}\n",
      "after subtitution, __dict__ = {}\n",
      "before subtitution, __dict__ = {'value': 13105360896}\n",
      "after subtitution, __dict__ = {'value': 13105360896}\n",
      "In 13105360896, tls.value = 13105360896\n",
      "before subtitution, __dict__ = {'value': 13105360896}\n",
      "after subtitution, __dict__ = {}\n",
      "before subtitution, __dict__ = {}\n",
      "after subtitution, __dict__ = {}\n",
      "before subtitution, __dict__ = {'value': 13138939904}\n",
      "after subtitution, __dict__ = {'value': 13138939904}\n",
      "In 13138939904, tls.value = 13138939904\n"
     ]
    }
   ],
   "source": [
    "import time\n",
    "from weakref import ref\n",
    "from contextlib import contextmanager\n",
    "\n",
    "# 一个简单的thread local object实现, 完整的实现参考CPython _threading_local.py文件\n",
    "\n",
    "\n",
    "@contextmanager\n",
    "def _patch(self):\n",
    "    impl = object.__getattribute__(self, \"_local__impl\")\n",
    "    try:\n",
    "        dct = impl.get_dict()\n",
    "    except KeyError:\n",
    "        dct = impl.create_dict()\n",
    "        args, kw = impl.localargs\n",
    "        self.__init__(*args, **kw)\n",
    "\n",
    "    with impl.locallock:\n",
    "        # 使用object.__getattribute__可以直接调用object基类的__getattribute__方法, 绕过当前类可能重写的__getattribute__\n",
    "        print(f\"before subtitution, __dict__ = {object.__getattribute__(self, '__dict__')}\")\n",
    "        object.__setattr__(self, \"__dict__\", dct)\n",
    "        print(f\"after subtitution, __dict__ = {dct}\")\n",
    "\n",
    "        yield\n",
    "\n",
    "class _localimpl:\n",
    "    def __init__(self):\n",
    "        self.dicts = {}\n",
    "\n",
    "    def get_dict(self):\n",
    "        thread = threading.current_thread()\n",
    "        return self.dicts[id(thread)]\n",
    "\n",
    "    def create_dict(self):\n",
    "        local_dict = {}\n",
    "        thread = threading.current_thread()\n",
    "        self.dicts[id(thread)] = local_dict\n",
    "        return local_dict\n",
    "\n",
    "\n",
    "class TLSData:\n",
    "    __slots__ = '_local__impl', '__dict__'\n",
    "\n",
    "    def __new__(cls, /, *args, **kwargs):\n",
    "        # 保证TLSData在构造时不进行初始化, 每个thread单独进行初始化\n",
    "        if (args or kwargs) and (cls.__init__ is object.__init__):\n",
    "            raise TypeError(\"TSLData does not take arguments...\")\n",
    "        self = object.__new__(cls)\n",
    "        impl = _localimpl()\n",
    "        impl.localargs = (args, kwargs)\n",
    "        impl.locallock = threading.RLock()\n",
    "        object.__setattr__(self, \"_local__impl\", impl)\n",
    "        impl.create_dict()\n",
    "        return self\n",
    "\n",
    "\n",
    "    def __getattribute__(self, name):\n",
    "        with _patch(self):\n",
    "            # print(f\"Inside getattribute patch, name = {name}\")\n",
    "            return object.__getattribute__(self, name)\n",
    "\n",
    "    def __setattr__(self, name, value):\n",
    "        with _patch(self):\n",
    "            # print(f\"Inside setattr patch, name = {name}, value = {value}\")\n",
    "            return object.__setattr__(self, name, value)\n",
    "\n",
    "    def __delattr__(self, name):\n",
    "        with _patch(self):\n",
    "            return object.__delattr__(self, name)\n",
    "\n",
    "\n",
    "from threading import current_thread, RLock\n",
    "\n",
    "tls = TLSData()\n",
    "\n",
    "def worker():\n",
    "    tls.value = threading.get_ident()\n",
    "    print(f\"In {threading.get_ident()}, tls.value = {tls.value}\")\n",
    "\n",
    "\n",
    "threads = []\n",
    "for idx in range(3):\n",
    "    t = threading.Thread(target=worker)\n",
    "    threads.append(t)\n",
    "    t.start()\n",
    "\n",
    "for thread in threads:\n",
    "    thread.join()"
   ]
  }
 ],
 "metadata": {
  "kernelspec": {
   "display_name": "base",
   "language": "python",
   "name": "python3"
  },
  "language_info": {
   "codemirror_mode": {
    "name": "ipython",
    "version": 3
   },
   "file_extension": ".py",
   "mimetype": "text/x-python",
   "name": "python",
   "nbconvert_exporter": "python",
   "pygments_lexer": "ipython3",
   "version": "3.8.8"
  }
 },
 "nbformat": 4,
 "nbformat_minor": 5
}
