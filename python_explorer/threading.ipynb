{
 "cells": [
  {
   "cell_type": "code",
   "execution_count": 4,
   "id": "6657272b",
   "metadata": {},
   "outputs": [],
   "source": [
    "import threading\n",
    "\n",
    "lock = threading.Lock()\n",
    "\n",
    "def recursive(n: int) -> int:\n",
    "    lock.acquire()\n",
    "    if n > 0:\n",
    "        return n * recursive(n-1)\n",
    "    else:\n",
    "        return 1\n",
    "    lock.release()\n",
    "\n",
    "# 会卡住: 普通互斥锁threading.Lock, 当同一线程重复获取会死锁\n",
    "# recursive(3)"
   ]
  },
  {
   "cell_type": "code",
   "execution_count": 6,
   "id": "d919e212",
   "metadata": {},
   "outputs": [
    {
     "name": "stdout",
     "output_type": "stream",
     "text": [
      "6\n"
     ]
    }
   ],
   "source": [
    "rlock = threading.RLock()\n",
    "\n",
    "def recursive_rl(n: int) -> int:\n",
    "    with rlock:\n",
    "        if n > 0:\n",
    "            return n * recursive_rl(n-1)\n",
    "        else:\n",
    "            return 1\n",
    "\n",
    "print(recursive_rl(3))"
   ]
  }
 ],
 "metadata": {
  "kernelspec": {
   "display_name": "base",
   "language": "python",
   "name": "python3"
  },
  "language_info": {
   "codemirror_mode": {
    "name": "ipython",
    "version": 3
   },
   "file_extension": ".py",
   "mimetype": "text/x-python",
   "name": "python",
   "nbconvert_exporter": "python",
   "pygments_lexer": "ipython3",
   "version": "3.8.8"
  }
 },
 "nbformat": 4,
 "nbformat_minor": 5
}
